{
 "cells": [
  {
   "cell_type": "code",
   "execution_count": null,
   "id": "08c0e862",
   "metadata": {},
   "outputs": [],
   "source": [
    "p=0.36*1+(1-0.36-0.16)*p\n",
    "p=0.36+0.48p\n",
    "0.52p=0.36\n",
    "p=0.36/0.52=69%"
   ]
  },
  {
   "cell_type": "code",
   "execution_count": 4,
   "id": "d20b90e0",
   "metadata": {},
   "outputs": [
    {
     "data": {
      "text/plain": [
       "0.6923076923076923"
      ]
     },
     "execution_count": 4,
     "metadata": {},
     "output_type": "execute_result"
    }
   ],
   "source": [
    "0.36/0.52"
   ]
  },
  {
   "cell_type": "code",
   "execution_count": 5,
   "id": "a36f296a",
   "metadata": {},
   "outputs": [
    {
     "data": {
      "text/plain": [
       "0.7346938775510204"
      ]
     },
     "execution_count": 5,
     "metadata": {},
     "output_type": "execute_result"
    }
   ],
   "source": [
    "36/49"
   ]
  },
  {
   "cell_type": "code",
   "execution_count": 7,
   "id": "c346f4b2",
   "metadata": {},
   "outputs": [
    {
     "ename": "SyntaxError",
     "evalue": "invalid syntax (<ipython-input-7-b3107b73e712>, line 9)",
     "output_type": "error",
     "traceback": [
      "\u001b[0;36m  File \u001b[0;32m\"<ipython-input-7-b3107b73e712>\"\u001b[0;36m, line \u001b[0;32m9\u001b[0m\n\u001b[0;31m    A: 5 faces white\u001b[0m\n\u001b[0m         ^\u001b[0m\n\u001b[0;31mSyntaxError\u001b[0m\u001b[0;31m:\u001b[0m invalid syntax\n"
     ]
    }
   ],
   "source": [
    "p=1/6+5/6*5/6*p\n",
    "\n",
    "E(p) - E(p2)=600/11-500/11=100/11dollars?\n",
    "\n",
    "p=6/11\n",
    "\n",
    "p2=5/11\n",
    "\n",
    "A: 5 faces white\n",
    "B: 6th face white\n",
    "    \n",
    "P(A): 1/27*1+6/27*(5/6)**5\n",
    "    \n",
    "P(B|A)=P(AandB)/P(A)\n",
    "P(AandB)=1/27\n",
    "\n",
    "(1/27*1+26/27*(5/6)**5)/(1/27)\n"
   ]
  },
  {
   "cell_type": "code",
   "execution_count": 14,
   "id": "73ae5d9d",
   "metadata": {},
   "outputs": [
    {
     "data": {
      "text/plain": [
       "0.29314634698032116"
      ]
     },
     "execution_count": 14,
     "metadata": {},
     "output_type": "execute_result"
    }
   ],
   "source": [
    "(1/27)/(1/27*1+6/27*(5/6)**5)\n"
   ]
  },
  {
   "cell_type": "code",
   "execution_count": 15,
   "id": "e981c3cc",
   "metadata": {},
   "outputs": [
    {
     "data": {
      "text/plain": [
       "0.401877572016461"
      ]
     },
     "execution_count": 15,
     "metadata": {},
     "output_type": "execute_result"
    }
   ],
   "source": [
    "(5/6)**5"
   ]
  },
  {
   "cell_type": "code",
   "execution_count": null,
   "id": "dbd64da0",
   "metadata": {},
   "outputs": [],
   "source": []
  },
  {
   "cell_type": "code",
   "execution_count": 10,
   "id": "e47670cb",
   "metadata": {},
   "outputs": [
    {
     "data": {
      "text/plain": [
       "0.3869932174973328"
      ]
     },
     "execution_count": 10,
     "metadata": {},
     "output_type": "execute_result"
    }
   ],
   "source": [
    "26/27*0.401877572016461"
   ]
  },
  {
   "cell_type": "code",
   "execution_count": 11,
   "id": "63fc1191",
   "metadata": {},
   "outputs": [
    {
     "data": {
      "text/plain": [
       "0.4240302545343698"
      ]
     },
     "execution_count": 11,
     "metadata": {},
     "output_type": "execute_result"
    }
   ],
   "source": [
    "0.3869932174973328+(1/27)"
   ]
  },
  {
   "cell_type": "code",
   "execution_count": 13,
   "id": "e6aed170",
   "metadata": {},
   "outputs": [
    {
     "data": {
      "text/plain": [
       "0.08734526992114662"
      ]
     },
     "execution_count": 13,
     "metadata": {},
     "output_type": "execute_result"
    }
   ],
   "source": [
    "(1/27)/0.4240302545343698"
   ]
  },
  {
   "cell_type": "code",
   "execution_count": null,
   "id": "929d69a5",
   "metadata": {},
   "outputs": [],
   "source": [
    "`bb"
   ]
  },
  {
   "cell_type": "code",
   "execution_count": 34,
   "id": "00382d93",
   "metadata": {},
   "outputs": [],
   "source": [
    "var=300000000*0.12*0.88"
   ]
  },
  {
   "cell_type": "code",
   "execution_count": 35,
   "id": "aad42ace",
   "metadata": {},
   "outputs": [
    {
     "data": {
      "text/plain": [
       "25.171412356083636"
      ]
     },
     "execution_count": 35,
     "metadata": {},
     "output_type": "execute_result"
    }
   ],
   "source": [
    "var**0.5/50000**0.5"
   ]
  },
  {
   "cell_type": "code",
   "execution_count": 37,
   "id": "7031db42",
   "metadata": {},
   "outputs": [],
   "source": [
    "z=0.01/25\n",
    "p=stats."
   ]
  },
  {
   "cell_type": "code",
   "execution_count": 4,
   "id": "676e2323",
   "metadata": {},
   "outputs": [],
   "source": [
    "import numpy as np"
   ]
  },
  {
   "cell_type": "code",
   "execution_count": 5,
   "id": "8d0adbf3",
   "metadata": {},
   "outputs": [],
   "source": [
    "total_sample=10000000\n",
    "x_ax=list(np.random.rand(total_sample)*2-1)\n",
    "y_ax=list(np.random.rand(total_sample)*2-1)"
   ]
  },
  {
   "cell_type": "code",
   "execution_count": 6,
   "id": "e1ab7137",
   "metadata": {},
   "outputs": [],
   "source": [
    "coords=zip(x_ax,y_ax)"
   ]
  },
  {
   "cell_type": "code",
   "execution_count": 7,
   "id": "95002caf",
   "metadata": {},
   "outputs": [],
   "source": [
    "in_circle=sum([(a**2+b**2)**0.5<1 for a,b in coords])"
   ]
  },
  {
   "cell_type": "code",
   "execution_count": 8,
   "id": "0d9bfa92",
   "metadata": {},
   "outputs": [
    {
     "data": {
      "text/plain": [
       "3.141574"
      ]
     },
     "execution_count": 8,
     "metadata": {},
     "output_type": "execute_result"
    }
   ],
   "source": [
    "in_circle/total_sample*4"
   ]
  },
  {
   "cell_type": "code",
   "execution_count": 9,
   "id": "ad20f60e",
   "metadata": {},
   "outputs": [
    {
     "data": {
      "text/plain": [
       "4950"
      ]
     },
     "execution_count": 9,
     "metadata": {},
     "output_type": "execute_result"
    }
   ],
   "source": [
    "99*50"
   ]
  },
  {
   "cell_type": "code",
   "execution_count": 11,
   "id": "ec375fd0",
   "metadata": {},
   "outputs": [
    {
     "data": {
      "text/plain": [
       "1680.0"
      ]
     },
     "execution_count": 11,
     "metadata": {},
     "output_type": "execute_result"
    }
   ],
   "source": [
    "np.math.factorial(9)/6/6/6"
   ]
  },
  {
   "cell_type": "code",
   "execution_count": 12,
   "id": "3213c341",
   "metadata": {},
   "outputs": [
    {
     "data": {
      "text/plain": [
       "0.9696969696969697"
      ]
     },
     "execution_count": 12,
     "metadata": {},
     "output_type": "execute_result"
    }
   ],
   "source": [
    "1/(1+1/32)"
   ]
  },
  {
   "cell_type": "code",
   "execution_count": 13,
   "id": "3698e8ff",
   "metadata": {},
   "outputs": [
    {
     "data": {
      "text/plain": [
       "Ttest_1sampResult(statistic=4.000000000000001, pvalue=0.003110428310385851)"
      ]
     },
     "execution_count": 13,
     "metadata": {},
     "output_type": "execute_result"
    }
   ],
   "source": [
    "from scipy import stats\n",
    "\n",
    "stats.ttest_1samp(a=[0.1,0.9,0.9,0.9,0.9,0.9,0.9,0.9,0.9,0.9],popmean=0.5)"
   ]
  },
  {
   "cell_type": "code",
   "execution_count": 14,
   "id": "d2ec1541",
   "metadata": {},
   "outputs": [
    {
     "data": {
      "text/plain": [
       "140.64913159284626"
      ]
     },
     "execution_count": 14,
     "metadata": {},
     "output_type": "execute_result"
    }
   ],
   "source": [
    "0.05/(((550*0.55+450*0.45)/999)**0.5/1000*0.5)"
   ]
  },
  {
   "cell_type": "code",
   "execution_count": 15,
   "id": "b5b5aabe",
   "metadata": {},
   "outputs": [
    {
     "data": {
      "text/plain": [
       "0.7109891036475211"
      ]
     },
     "execution_count": 15,
     "metadata": {},
     "output_type": "execute_result"
    }
   ],
   "source": [
    "((550*0.55+450*0.45)/999)**0.5"
   ]
  },
  {
   "cell_type": "code",
   "execution_count": 16,
   "id": "45654f23",
   "metadata": {},
   "outputs": [
    {
     "data": {
      "text/plain": [
       "0.022483449590876965"
      ]
     },
     "execution_count": 16,
     "metadata": {},
     "output_type": "execute_result"
    }
   ],
   "source": [
    "0.7109891036475211/1000**0.5"
   ]
  },
  {
   "cell_type": "code",
   "execution_count": 18,
   "id": "ec98def2",
   "metadata": {},
   "outputs": [
    {
     "data": {
      "text/plain": [
       "2.2238580337907017"
      ]
     },
     "execution_count": 18,
     "metadata": {},
     "output_type": "execute_result"
    }
   ],
   "source": [
    "0.05/0.022483449590876965"
   ]
  },
  {
   "cell_type": "code",
   "execution_count": null,
   "id": "9abb67ce",
   "metadata": {},
   "outputs": [],
   "source": []
  },
  {
   "cell_type": "code",
   "execution_count": 21,
   "id": "4668f844",
   "metadata": {},
   "outputs": [],
   "source": [
    "G=[[1,0],[0,1]]\n",
    "numcells=len(G)*len(G[0]\n",
    "numships=sum([sum(x) for x in G])"
   ]
  },
  {
   "cell_type": "code",
   "execution_count": 22,
   "id": "fb12e603",
   "metadata": {},
   "outputs": [
    {
     "data": {
      "text/plain": [
       "[1, 2, 3]"
      ]
     },
     "execution_count": 22,
     "metadata": {},
     "output_type": "execute_result"
    }
   ],
   "source": [
    "a=[2,1,3]\n",
    "a.sort()\n",
    "a"
   ]
  },
  {
   "cell_type": "code",
   "execution_count": null,
   "id": "0a77f414",
   "metadata": {},
   "outputs": [],
   "source": [
    "p(T|I)=0.971\n",
    "p(T'|I')=0.995\n",
    "p(I)=0.001\n",
    "\n",
    "P(T|I')=0.005\n",
    "  \n",
    "\n",
    "\n",
    "#p(I|T)=P(T|I)*P(I)/(P(T|I)*P(I)+P(T|I')*(1-P(I)))\n",
    "  \n",
    " #p(I'|T')=P(T'|I')*P(I')/(P(T'|I')*P(I')+P(T'|I)*(1-P(I'))) "
   ]
  },
  {
   "cell_type": "code",
   "execution_count": 25,
   "id": "1facb0b5",
   "metadata": {},
   "outputs": [
    {
     "name": "stdout",
     "output_type": "stream",
     "text": [
      "0.162755615152531\n",
      "0.9999708259476034\n"
     ]
    }
   ],
   "source": [
    "sick_rate=0.001\n",
    "\n",
    "print(0.971*sick_rate/(0.971*sick_rate+0.005*(1-sick_rate)))\n",
    "\n",
    "print(0.995*(1-sick_rate)/(0.995*(1-sick_rate)+(1-0.971)*sick_rate))"
   ]
  },
  {
   "cell_type": "code",
   "execution_count": 29,
   "id": "36414604",
   "metadata": {},
   "outputs": [
    {
     "name": "stdout",
     "output_type": "stream",
     "text": [
      "0.66\n",
      "0.333\n"
     ]
    }
   ],
   "source": [
    "Options=[1,2,3]\n",
    "\n",
    "sol=0\n",
    "n=1000\n",
    "\n",
    "for i in range(n):\n",
    "    truth=np.random.choice(Options,1)\n",
    "    initial_pick=np.random.choice(Options,1)\n",
    "    for x in Options:\n",
    "        if x !=truth and x!=initial_pick:\n",
    "            new_options=Options.remove(x)\n",
    "            break\n",
    "    for y in Options:\n",
    "        if y!=initial_pick:\n",
    "            new_pick=y\n",
    "    if new_pick==truth:\n",
    "        sol+=1\n",
    "    Options.append(x)\n",
    "        \n",
    "print(sol/n)\n",
    "\n",
    "sol2=0\n",
    "for i in range(n):\n",
    "    truth=np.random.choice(Options,1)\n",
    "    initial_pick=np.random.choice(Options,1)\n",
    "\n",
    "    if initial_pick==truth:\n",
    "        sol2+=1\n",
    "        \n",
    "print(sol2/n)\n"
   ]
  },
  {
   "cell_type": "code",
   "execution_count": 41,
   "id": "b6539e2c",
   "metadata": {},
   "outputs": [
    {
     "data": {
      "text/plain": [
       "'5551'"
      ]
     },
     "execution_count": 41,
     "metadata": {},
     "output_type": "execute_result"
    }
   ],
   "source": [
    "'555' + '1'"
   ]
  },
  {
   "cell_type": "code",
   "execution_count": 56,
   "id": "8e719ea7",
   "metadata": {},
   "outputs": [],
   "source": [
    "dict1={'a':(2,4),'b':(1,6)}\n",
    "dict2={'a':2,'b':4}"
   ]
  },
  {
   "cell_type": "code",
   "execution_count": 64,
   "id": "c1bde9b7",
   "metadata": {},
   "outputs": [],
   "source": [
    "dict1={('a','b'):(2,4),('c','d'):(1,6)}"
   ]
  },
  {
   "cell_type": "code",
   "execution_count": 65,
   "id": "28d19d5f",
   "metadata": {},
   "outputs": [
    {
     "data": {
      "text/plain": [
       "('c', 'd')"
      ]
     },
     "execution_count": 65,
     "metadata": {},
     "output_type": "execute_result"
    }
   ],
   "source": [
    "max(dict1, key=lambda x: dict1.get(x)[1])"
   ]
  },
  {
   "cell_type": "code",
   "execution_count": 66,
   "id": "494d7a59",
   "metadata": {},
   "outputs": [],
   "source": [
    "dict1={}\n",
    "dict1['a']={}\n",
    "dict1['a']['b']=1"
   ]
  },
  {
   "cell_type": "code",
   "execution_count": 67,
   "id": "a45e4fb6",
   "metadata": {},
   "outputs": [
    {
     "data": {
      "text/plain": [
       "{'a': {'b': 1}}"
      ]
     },
     "execution_count": 67,
     "metadata": {},
     "output_type": "execute_result"
    }
   ],
   "source": [
    "dict1"
   ]
  },
  {
   "cell_type": "code",
   "execution_count": 68,
   "id": "4f9ef24a",
   "metadata": {},
   "outputs": [
    {
     "data": {
      "text/plain": [
       "1"
      ]
     },
     "execution_count": 68,
     "metadata": {},
     "output_type": "execute_result"
    }
   ],
   "source": [
    "dict1['a']['b']"
   ]
  },
  {
   "cell_type": "code",
   "execution_count": null,
   "id": "1bcc28ae",
   "metadata": {},
   "outputs": [],
   "source": []
  }
 ],
 "metadata": {
  "kernelspec": {
   "display_name": "Python 3",
   "language": "python",
   "name": "python3"
  },
  "language_info": {
   "codemirror_mode": {
    "name": "ipython",
    "version": 3
   },
   "file_extension": ".py",
   "mimetype": "text/x-python",
   "name": "python",
   "nbconvert_exporter": "python",
   "pygments_lexer": "ipython3",
   "version": "3.8.8"
  }
 },
 "nbformat": 4,
 "nbformat_minor": 5
}
